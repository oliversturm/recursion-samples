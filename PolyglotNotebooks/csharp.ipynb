{
 "cells": [
  {
   "cell_type": "markdown",
   "metadata": {},
   "source": [
    "# C#"
   ]
  },
  {
   "cell_type": "markdown",
   "metadata": {},
   "source": [
    "## Just iterate to goal, recusively"
   ]
  },
  {
   "cell_type": "code",
   "execution_count": null,
   "metadata": {
    "dotnet_interactive": {
     "language": "csharp"
    },
    "polyglot_notebook": {
     "kernelName": "csharp"
    },
    "vscode": {
     "languageId": "polyglot-notebook"
    }
   },
   "outputs": [],
   "source": [
    "static ulong Go(ulong target, ulong x) {\n",
    "    if (x != target)\n",
    "        return Go(target, x + 1);\n",
    "    else return x;\n",
    "}\n",
    "Go(10,0)"
   ]
  },
  {
   "cell_type": "markdown",
   "metadata": {},
   "source": [
    "## Calculate the sum of values in a list,\n",
    "Using a recursive algorithm. Unusual in C#, but common in other languages! "
   ]
  },
  {
   "cell_type": "code",
   "execution_count": null,
   "metadata": {
    "dotnet_interactive": {
     "language": "csharp"
    },
    "polyglot_notebook": {
     "kernelName": "csharp"
    },
    "vscode": {
     "languageId": "polyglot-notebook"
    }
   },
   "outputs": [],
   "source": [
    "static ulong SumRec(ulong[] l) => l switch {\n",
    "    [] => 0,\n",
    "    [var x, .. var xs] => x + SumRec(xs)\n",
    "};\n",
    "SumRec(new ulong[] { 2, 3, 6, 8 })"
   ]
  },
  {
   "cell_type": "markdown",
   "metadata": {},
   "source": [
    "## Using sequences instead of arrays with the pattern matching syntax"
   ]
  },
  {
   "cell_type": "code",
   "execution_count": null,
   "metadata": {
    "dotnet_interactive": {
     "language": "csharp"
    },
    "polyglot_notebook": {
     "kernelName": "csharp"
    },
    "vscode": {
     "languageId": "polyglot-notebook"
    }
   },
   "outputs": [],
   "source": [
    "static ulong SumRecSeq(IEnumerable<ulong> s) {\n",
    "    // using long syntax for clarity\n",
    "    if (s.Any()) {\n",
    "        return s.First() + SumRecSeq(s.Skip(1));\n",
    "    }\n",
    "    else {\n",
    "        return 0;\n",
    "    }\n",
    "}\n",
    "SumRec(new ulong[] { 2, 3, 6, 8 })"
   ]
  },
  {
   "cell_type": "markdown",
   "metadata": {},
   "source": [
    "## Passing result along as a parameter and the calculation is performed *before* the call.\n",
    "It is no longer necessary to return to the same call instance later to complete the calculation."
   ]
  },
  {
   "cell_type": "code",
   "execution_count": null,
   "metadata": {
    "dotnet_interactive": {
     "language": "csharp"
    },
    "polyglot_notebook": {
     "kernelName": "csharp"
    },
    "vscode": {
     "languageId": "polyglot-notebook"
    }
   },
   "outputs": [],
   "source": [
    "static ulong SumRecSeqTail(IEnumerable<ulong> s, ulong result = 0) {\n",
    "  // using long syntax for clarity\n",
    "  if (s.Any()) {\n",
    "    return SumRecSeqTail(s.Skip(1), result + s.First());\n",
    "  }\n",
    "  else {\n",
    "    return result;\n",
    "  }\n",
    "}\n",
    "SumRecSeqTail(new ulong[] { 2, 3, 6, 8 })"
   ]
  },
  {
   "cell_type": "markdown",
   "metadata": {},
   "source": [
    "## Prevent any performance issues due to the list handling\n",
    "which is a bit contrived in the examples above, especially for C#), here is a variation of the last function that still calculates a sum in a very similar way, but does not use a list."
   ]
  },
  {
   "cell_type": "code",
   "execution_count": null,
   "metadata": {
    "dotnet_interactive": {
     "language": "csharp"
    },
    "polyglot_notebook": {
     "kernelName": "csharp"
    },
    "vscode": {
     "languageId": "polyglot-notebook"
    }
   },
   "outputs": [],
   "source": [
    "static ulong SumRecMaxTail(ulong max, ulong val, ulong result = 0) {\n",
    "  if (val < max)\n",
    "    return SumRecMaxTail(max, val + 1, result + val);\n",
    "  else\n",
    "    return result;\n",
    "}\n",
    "SumRecMaxTail(20, 0)"
   ]
  },
  {
   "cell_type": "markdown",
   "metadata": {},
   "source": [
    "## Trampolining"
   ]
  },
  {
   "cell_type": "code",
   "execution_count": null,
   "metadata": {
    "dotnet_interactive": {
     "language": "csharp"
    },
    "polyglot_notebook": {
     "kernelName": "csharp"
    },
    "vscode": {
     "languageId": "polyglot-notebook"
    }
   },
   "outputs": [],
   "source": [
    "\n",
    "  // Encapsulation of the either/or result \n",
    "  // Not needed in dynamic languages\n",
    "  public class TrampolineResult<Tout> {\n",
    "    public TrampolineResult(Func<TrampolineResult<Tout>> continuation) {\n",
    "      IsContinuation = true;\n",
    "      this.Continuation = continuation;\n",
    "      this.Result = default!; // satisfy compiler\n",
    "    }\n",
    "    public bool IsContinuation { get; }\n",
    "    public Func<TrampolineResult<Tout>> Continuation { get; }\n",
    "\n",
    "    public TrampolineResult(Tout result) {\n",
    "      IsContinuation = false;\n",
    "      this.Result = result;\n",
    "      this.Continuation = default!; // satisfy compiler\n",
    "    }\n",
    "    public Tout Result { get; }\n",
    "  }\n",
    "\n",
    "  // Syntactic convenience -- maybe OOP people like this syntax?\n",
    "  public class TrampolineResult {\n",
    "    public static TrampolineResult<Tout> From<Tout>(Tout result) => new(result);\n",
    "    public static TrampolineResult<Tout> From<Tout>(Func<TrampolineResult<Tout>> continuation) => new(continuation);\n",
    "  }\n",
    "\n",
    "  // Or maybe like this for a more FP feel?\n",
    "  static TrampolineResult<Tout> Tr<Tout>(Tout result) => new(result);\n",
    "  static TrampolineResult<Tout> Tr<Tout>(Func<TrampolineResult<Tout>> continuation) => new(continuation);\n",
    "\n",
    "  public static Tout Trampoline<Tout>(Func<TrampolineResult<Tout>> f) {\n",
    "    var currentResult = new TrampolineResult<Tout>(f);\n",
    "    while (currentResult.IsContinuation)\n",
    "      currentResult = currentResult.Continuation.Invoke();\n",
    "    return currentResult.Result;\n",
    "  }\n",
    "\n",
    "  static TrampolineResult<ulong> SumTrampoline(ulong x, ulong current = 0) {\n",
    "    if (x == 0)\n",
    "      return Tr(current);\n",
    "    else\n",
    "      return Tr(() => SumTrampoline(x - 1, current + x));\n",
    "  }"
   ]
  },
  {
   "cell_type": "code",
   "execution_count": null,
   "metadata": {
    "dotnet_interactive": {
     "language": "csharp"
    },
    "polyglot_notebook": {
     "kernelName": "csharp"
    },
    "vscode": {
     "languageId": "polyglot-notebook"
    }
   },
   "outputs": [],
   "source": [
    "Trampoline(() => SumTrampoline(100))"
   ]
  },
  {
   "cell_type": "code",
   "execution_count": null,
   "metadata": {
    "dotnet_interactive": {
     "language": "csharp"
    },
    "polyglot_notebook": {
     "kernelName": "csharp"
    },
    "vscode": {
     "languageId": "polyglot-notebook"
    }
   },
   "outputs": [],
   "source": [
    "Trampoline(() => SumTrampoline(300000))"
   ]
  },
  {
   "cell_type": "markdown",
   "metadata": {},
   "source": [
    "## CPS"
   ]
  },
  {
   "cell_type": "code",
   "execution_count": null,
   "metadata": {
    "dotnet_interactive": {
     "language": "csharp"
    },
    "polyglot_notebook": {
     "kernelName": "csharp"
    },
    "vscode": {
     "languageId": "polyglot-notebook"
    }
   },
   "outputs": [],
   "source": [
    "static void SumCps(ulong[] l, Action<ulong> continuation) {\n",
    "  switch (l) {\n",
    "    case []: continuation(0); break;\n",
    "    case [var x, .. var xs]: SumCps(xs, ix => continuation(ix + x)); break;\n",
    "  };\n",
    "}\n",
    "static void SumCpsSeq(IEnumerable<ulong> s, Action<ulong> continuation) {\n",
    "  if (!s.Any()) {\n",
    "    continuation(0);\n",
    "    return;\n",
    "  }\n",
    "  SumCpsSeq(s.Skip(1), ix => continuation(ix + s.First()));\n",
    "}\n",
    "static Action<ulong> OutputResult(string prefix) => (ulong value) => Console.WriteLine($\"{prefix}: {value}\");"
   ]
  },
  {
   "cell_type": "code",
   "execution_count": null,
   "metadata": {
    "dotnet_interactive": {
     "language": "csharp"
    },
    "polyglot_notebook": {
     "kernelName": "csharp"
    },
    "vscode": {
     "languageId": "polyglot-notebook"
    }
   },
   "outputs": [],
   "source": [
    "SumCps(new ulong[] { 2, 3, 6, 8 }, OutputResult(\"SumCps\"));"
   ]
  },
  {
   "cell_type": "code",
   "execution_count": null,
   "metadata": {
    "dotnet_interactive": {
     "language": "csharp"
    },
    "polyglot_notebook": {
     "kernelName": "csharp"
    },
    "vscode": {
     "languageId": "polyglot-notebook"
    }
   },
   "outputs": [],
   "source": [
    "SumCpsSeq(new ulong[] { 2, 3, 6, 8 }, OutputResult(\"SumCpsSeq\"));"
   ]
  }
 ],
 "metadata": {
  "kernelspec": {
   "display_name": "Python 3",
   "language": "python",
   "name": "python3"
  },
  "language_info": {
   "codemirror_mode": {
    "name": "ipython",
    "version": 3
   },
   "file_extension": ".py",
   "mimetype": "text/x-python",
   "name": "python",
   "nbconvert_exporter": "python",
   "pygments_lexer": "ipython3",
   "version": "3.10.8"
  },
  "orig_nbformat": 4
 },
 "nbformat": 4,
 "nbformat_minor": 2
}
